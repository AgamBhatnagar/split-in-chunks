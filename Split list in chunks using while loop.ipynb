{
 "cells": [
  {
   "cell_type": "code",
   "execution_count": 97,
   "metadata": {},
   "outputs": [
    {
     "name": "stdout",
     "output_type": "stream",
     "text": [
      "Enter a number3\n",
      "[1, 2, 3]\n",
      "[4, 5, 6]\n",
      "[7, 8, 9]\n",
      "[10]\n"
     ]
    }
   ],
   "source": [
    "import numpy as np\n",
    "l = [1,2,3,4,5,6,7,8,9,10]\n",
    "\n",
    "n = int(input('Enter a number'))\n",
    "\n",
    "def split_list(the_list, chunk_size):\n",
    "    result_list = []\n",
    "    while the_list:\n",
    "        result_list.append(the_list[:chunk_size])\n",
    "        the_list = the_list[chunk_size:]\n",
    "    return result_list\n",
    "\n",
    "s=(split_list(l, n))\n",
    "for i in range (0,len(s)):\n",
    "    print(s[i])"
   ]
  },
  {
   "cell_type": "code",
   "execution_count": null,
   "metadata": {},
   "outputs": [],
   "source": [
    "while list:\n",
    "    final_list.append"
   ]
  }
 ],
 "metadata": {
  "kernelspec": {
   "display_name": "Python 3",
   "language": "python",
   "name": "python3"
  },
  "language_info": {
   "codemirror_mode": {
    "name": "ipython",
    "version": 3
   },
   "file_extension": ".py",
   "mimetype": "text/x-python",
   "name": "python",
   "nbconvert_exporter": "python",
   "pygments_lexer": "ipython3",
   "version": "3.7.1"
  }
 },
 "nbformat": 4,
 "nbformat_minor": 2
}
